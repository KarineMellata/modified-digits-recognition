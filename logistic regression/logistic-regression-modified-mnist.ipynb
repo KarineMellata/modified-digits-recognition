{
 "cells": [
  {
   "cell_type": "code",
   "execution_count": 137,
   "metadata": {
    "collapsed": true
   },
   "outputs": [],
   "source": [
    "import numpy   as np\n",
    "import scipy.misc # to visualize only\n",
    "import matplotlib.pyplot as plt\n",
    "import time\n",
    "import pandas as pd\n",
    "from sklearn.linear_model import LogisticRegression\n",
    "from sklearn.utils import check_random_state\n",
    "from sklearn.model_selection import train_test_split\n",
    "from sklearn.preprocessing import StandardScaler\n",
    "from sklearn.decomposition import PCA\n",
    "import csv\n",
    "from sklearn.model_selection import learning_curve\n",
    "from sklearn.model_selection import ShuffleSplit\n",
    "import itertools"
   ]
  },
  {
   "cell_type": "code",
   "execution_count": 138,
   "metadata": {},
   "outputs": [
    {
     "name": "stdout",
     "output_type": "stream",
     "text": [
      "We here\n",
      "Loading training set inputs took 93.639911 seconds\n"
     ]
    }
   ],
   "source": [
    "time1 = time.clock()\n",
    "# Load data set\n",
    "x = pd.read_csv(\"train_x.csv\", delimiter=\",\",header=None).values\n",
    "time2 = time.clock()\n",
    "print(\"Loading training set inputs took \" + str(time2-time1) + \" seconds\")\n",
    "y = np.loadtxt(\"train_y.csv\", delimiter=\",\")\n",
    "x = x.reshape(-1, 64, 64) # reshape\n",
    "y = y.reshape(-1, 1)"
   ]
  },
  {
   "cell_type": "code",
   "execution_count": 140,
   "metadata": {},
   "outputs": [
    {
     "name": "stdout",
     "output_type": "stream",
     "text": [
      "[  42.   33.   32. ...,  149.  120.   74.]\n"
     ]
    },
    {
     "data": {
      "image/png": "[encoded data removed]",
      "text/plain": [
       "<matplotlib.figure.Figure at 0x120715a50>"
      ]
     },
     "metadata": {},
     "output_type": "display_data"
    }
   ],
   "source": [
    "# Shuffle data\n",
    "random_state = check_random_state(0)\n",
    "permutation = random_state.permutation(x.shape[0])\n",
    "x = x[permutation]\n",
    "y = y[permutation]\n",
    "X = x.reshape(x.shape[0], -1)"
   ]
  },
  {
   "cell_type": "code",
   "execution_count": 155,
   "metadata": {},
   "outputs": [
    {
     "name": "stdout",
     "output_type": "stream",
     "text": [
      "[ -2.29e+03   6.92e+02  -1.10e+03  -3.13e+02  -6.34e+02   1.39e+02\n",
      "   8.78e+02  -1.85e+02   1.99e+02  -3.57e+02  -7.21e+01   1.33e+02\n",
      "  -3.70e+02  -2.35e+02   5.85e+02  -4.89e+02   1.79e+02   6.97e+02\n",
      "  -1.38e+02  -4.41e+02   2.22e+02   3.55e+02  -4.13e+02  -5.29e+02\n",
      "   1.08e+02   3.84e+02   1.72e+02  -1.13e+01  -3.46e+02   5.25e+01\n",
      "  -3.64e+02   3.45e+02   3.74e+02  -4.61e+02  -9.58e+01   1.59e+02\n",
      "  -2.08e+02   4.86e+01  -5.95e+02   2.29e+02  -5.77e+01  -3.08e+02\n",
      "  -2.69e+02   3.72e+02   5.31e+02  -4.75e+02   5.83e+01   1.03e+02\n",
      "   8.57e+01   1.42e+02  -1.34e+02  -2.92e+02  -1.64e+02  -6.43e+01\n",
      "   3.91e+02  -9.92e+01  -2.88e+02   2.63e+02  -8.14e+02   7.80e+01\n",
      "   1.66e+02   1.27e+02  -7.65e+01   2.25e+02   2.77e+02   1.55e+02\n",
      "   2.14e+02   6.27e+01   4.70e+01  -8.92e+01  -9.61e+01  -1.31e+02\n",
      "   6.30e+01   2.58e+01   1.07e+02  -1.42e+01  -3.88e+01   4.11e+02\n",
      "  -2.11e+02  -1.91e+01   2.12e+02  -2.25e+01   2.55e+02  -3.88e+01\n",
      "  -4.42e+02  -4.60e+01  -8.96e+01  -2.38e+02   3.27e+02  -5.59e+01\n",
      "  -1.97e+02  -1.70e+01  -1.86e+02   1.76e+01  -2.68e+02   3.73e+01\n",
      "  -1.89e+02  -2.04e+02  -1.05e+02  -7.44e+01   2.10e+02  -2.27e+02\n",
      "  -1.18e+01   1.86e+01  -3.17e+02  -3.31e+01   1.80e+02  -1.03e+02\n",
      "   7.90e+01  -2.25e+01   8.30e+01  -2.55e+02  -2.63e+02  -1.06e+02\n",
      "   8.22e+01  -3.54e+02   1.65e+02  -3.81e+01   3.10e+01   9.06e+01\n",
      "   4.74e+01  -4.98e+01   1.61e+01  -1.60e+00   2.23e+02   2.00e+02\n",
      "   3.07e+02  -2.08e+01]\n"
     ]
    }
   ],
   "source": [
    "# PCA with 128 principal components\n",
    "pca = PCA(n_components=128)\n",
    "X_transformed = pca.fit_transform(X)\n",
    "plt.show(X_transformed.all())"
   ]
  },
  {
   "cell_type": "code",
   "execution_count": 156,
   "metadata": {
    "collapsed": true
   },
   "outputs": [],
   "source": [
    "# Split according to 80-20 cross-validation scheme\n",
    "X_train, X_test, y_train, y_test = train_test_split(\n",
    "    X_transformed, y, train_size=40000, test_size=9999)"
   ]
  },
  {
   "cell_type": "code",
   "execution_count": 157,
   "metadata": {},
   "outputs": [
    {
     "name": "stdout",
     "output_type": "stream",
     "text": [
      "Test score: 11.3611\n"
     ]
    }
   ],
   "source": [
    "# Scale data\n",
    "scaler = StandardScaler()\n",
    "X_train = scaler.fit_transform(X_train)\n",
    "X_test = scaler.transform(X_test)\n",
    "\n",
    "# Logistic Regression Classifier\n",
    "clf = LogisticRegression(multi_class='ovr', penalty='l1', solver='saga')\n",
    "# Fit to training data\n",
    "clf.fit(X_train,y_train)\n",
    "score = clf.score(X_test,y_test) * 100\n",
    "print(\"Test score: %.4f\" % score )"
   ]
  },
  {
   "cell_type": "code",
   "execution_count": 159,
   "metadata": {},
   "outputs": [],
   "source": [
    "# This piece of code was taken from Scikit documentation for plotting learning curves\n",
    "# http://scikit-learn.org/stable/auto_examples/model_selection/plot_learning_curve.html\n",
    "def plot_learning_curve(estimator, title, X, y, ylim=None, cv=None,\n",
    "                        n_jobs=1, train_sizes=np.linspace(.1, 1.0, 5)):\n",
    "    \"\"\"\n",
    "    Generate a simple plot of the test and training learning curve.\n",
    "\n",
    "    Parameters\n",
    "    ----------\n",
    "    estimator : object type that implements the \"fit\" and \"predict\" methods\n",
    "        An object of that type which is cloned for each validation.\n",
    "\n",
    "    title : string\n",
    "        Title for the chart.\n",
    "\n",
    "    X : array-like, shape (n_samples, n_features)\n",
    "        Training vector, where n_samples is the number of samples and\n",
    "        n_features is the number of features.\n",
    "\n",
    "    y : array-like, shape (n_samples) or (n_samples, n_features), optional\n",
    "        Target relative to X for classification or regression;\n",
    "        None for unsupervised learning.\n",
    "\n",
    "    ylim : tuple, shape (ymin, ymax), optional\n",
    "        Defines minimum and maximum yvalues plotted.\n",
    "\n",
    "    cv : int, cross-validation generator or an iterable, optional\n",
    "        Determines the cross-validation splitting strategy.\n",
    "        Possible inputs for cv are:\n",
    "          - None, to use the default 3-fold cross-validation,\n",
    "          - integer, to specify the number of folds.\n",
    "          - An object to be used as a cross-validation generator.\n",
    "          - An iterable yielding train/test splits.\n",
    "\n",
    "        For integer/None inputs, if ``y`` is binary or multiclass,\n",
    "        :class:`StratifiedKFold` used. If the estimator is not a classifier\n",
    "        or if ``y`` is neither binary nor multiclass, :class:`KFold` is used.\n",
    "\n",
    "        Refer :ref:`User Guide <cross_validation>` for the various\n",
    "        cross-validators that can be used here.\n",
    "\n",
    "    n_jobs : integer, optional\n",
    "        Number of jobs to run in parallel (default 1).\n",
    "    \"\"\"\n",
    "    plt.figure()\n",
    "    plt.title(title)\n",
    "    if ylim is not None:\n",
    "        plt.ylim(*ylim)\n",
    "    plt.xlabel(\"Training examples\")\n",
    "    plt.ylabel(\"Score\")\n",
    "    train_sizes, train_scores, test_scores = learning_curve(estimator, X, y, cv=cv, n_jobs=n_jobs, train_sizes=train_sizes)\n",
    "    train_scores_mean = np.mean(train_scores, axis=1)\n",
    "    train_scores_std = np.std(train_scores, axis=1)\n",
    "    test_scores_mean = np.mean(test_scores, axis=1)\n",
    "    test_scores_std = np.std(test_scores, axis=1)\n",
    "    plt.grid()\n",
    "\n",
    "    plt.fill_between(train_sizes, train_scores_mean - train_scores_std,train_scores_mean + train_scores_std, alpha=0.1,color=\"r\")\n",
    "    plt.fill_between(train_sizes, test_scores_mean - test_scores_std,test_scores_mean + test_scores_std, alpha=0.1, color=\"g\")\n",
    "    plt.plot(train_sizes, train_scores_mean, 'o-', color=\"r\",label=\"Training score\")\n",
    "    plt.plot(train_sizes, test_scores_mean, 'o-', color=\"g\",label=\"Cross-validation score\")\n",
    "    plt.legend(loc=\"best\")\n",
    "    return plt"
   ]
  },
  {
   "cell_type": "code",
   "execution_count": 160,
   "metadata": {},
   "outputs": [],
   "source": [
    "# Cross validation with 5 iterations each time with 20% data randomly selected as a validation set.\n",
    "title = \"Learning Curves (Logistic Regression, C=0.01)\"\n",
    "#Scale data\n",
    "X_scaled = scaler.fit_transform(X_transformed)\n",
    "cv = ShuffleSplit(n_splits=5, test_size=0.2, random_state=0)\n",
    "estimator = LogisticRegression(C=0.01, multi_class='ovr', penalty='l1', solver='saga')\n",
    "plt = plot_learning_curve(estimator, title, X_scaled, y, cv=cv, n_jobs=4)"
   ]
  },
  {
   "cell_type": "code",
   "execution_count": 161,
   "metadata": {},
   "outputs": [
    {
     "data": {
      "image/png": "[encoded data removed]",
      "text/plain": [
       "<matplotlib.figure.Figure at 0x126b28d50>"
      ]
     },
     "metadata": {},
     "output_type": "display_data"
    },
    {
     "data": {
      "image/png": "[encoded data removed]",
      "text/plain": [
       "<matplotlib.figure.Figure at 0x124334590>"
      ]
     },
     "metadata": {},
     "output_type": "display_data"
    }
   ],
   "source": [
    "plt.show()"
   ]
  },
  {
   "cell_type": "code",
   "execution_count": 151,
   "metadata": {},
   "outputs": [
    {
     "name": "stdout",
     "output_type": "stream",
     "text": [
      "10000\n"
     ]
    }
   ],
   "source": [
    "# Test data\n",
    "x_test_kaggle = pd.read_csv(\"test_x.csv\", delimiter=\",\", header=None).values\n",
    "print(len(x_test_kaggle))"
   ]
  },
  {
   "cell_type": "code",
   "execution_count": 152,
   "metadata": {},
   "outputs": [],
   "source": [
    "# Apply PCA and scale data\n",
    "X_transformed_kaggle = pca.fit_transform(x_test_kaggle)\n",
    "X_scaled_2 = scaler.fit_transform(X_transformed_kaggle)"
   ]
  },
  {
   "cell_type": "code",
   "execution_count": 153,
   "metadata": {},
   "outputs": [],
   "source": [
    "# Predict with classifier\n",
    "x_prediction = clf.predict(X_scaled_2)"
   ]
  },
  {
   "cell_type": "code",
   "execution_count": 154,
   "metadata": {},
   "outputs": [
    {
     "name": "stdout",
     "output_type": "stream",
     "text": [
      "10000\n",
      "0.0\n"
     ]
    }
   ],
   "source": [
    "# Output data\n",
    "with open('output.csv', \"wb\") as csvfile:\n",
    "    writer = csv.writer(csvfile)\n",
    "    header = \"Id\"\n",
    "    category = \"Label\"\n",
    "    writer.writerow([header] + [category])\n",
    "    print(len(x_prediction))\n",
    "    print(x_prediction[9998])\n",
    "    for i in range(len(x_prediction)):\n",
    "        writer.writerow([i+1] + [int(x_prediction[i])])"
   ]
  },
  {
   "cell_type": "code",
   "execution_count": null,
   "metadata": {
    "collapsed": true
   },
   "outputs": [],
   "source": []
  },
  {
   "cell_type": "code",
   "execution_count": null,
   "metadata": {
    "collapsed": true
   },
   "outputs": [],
   "source": []
  }
 ],
 "metadata": {
  "kernelspec": {
   "display_name": "Python 2",
   "language": "python",
   "name": "python2"
  },
  "language_info": {
   "codemirror_mode": {
    "name": "ipython",
    "version": 2
   },
   "file_extension": ".py",
   "mimetype": "text/x-python",
   "name": "python",
   "nbconvert_exporter": "python",
   "pygments_lexer": "ipython2",
   "version": "2.7.13"
  }
 },
 "nbformat": 4,
 "nbformat_minor": 1
}
